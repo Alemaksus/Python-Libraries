{
 "cells": [
  {
   "cell_type": "markdown",
   "metadata": {
    "_cell_guid": "b1076dfc-b9ad-4769-8c92-a6c4dae69d19",
    "_uuid": "8f2839f25d086af736a60e9eeb907d3b93b6e0e5",
    "papermill": {
     "duration": 0.034271,
     "end_time": "2021-06-05T17:20:13.091280",
     "exception": false,
     "start_time": "2021-06-05T17:20:13.057009",
     "status": "completed"
    },
    "tags": []
   },
   "source": [
    "# Aleks Maksakov: Real Estate Price Prediction DS1"
   ]
  },
  {
   "cell_type": "markdown",
   "metadata": {
    "papermill": {
     "duration": 0.032679,
     "end_time": "2021-06-05T17:20:13.157143",
     "exception": false,
     "start_time": "2021-06-05T17:20:13.124464",
     "status": "completed"
    },
    "tags": []
   },
   "source": [
    "## Libraries & scripts"
   ]
  },
  {
   "cell_type": "code",
   "execution_count": 1,
   "metadata": {
    "execution": {
     "iopub.execute_input": "2021-06-05T17:20:13.227527Z",
     "iopub.status.busy": "2021-06-05T17:20:13.226317Z",
     "iopub.status.idle": "2021-06-05T17:20:15.669999Z",
     "shell.execute_reply": "2021-06-05T17:20:15.670686Z",
     "shell.execute_reply.started": "2021-06-05T16:24:12.146898Z"
    },
    "papermill": {
     "duration": 2.480681,
     "end_time": "2021-06-05T17:20:15.671016",
     "exception": false,
     "start_time": "2021-06-05T17:20:13.190335",
     "status": "completed"
    },
    "tags": []
   },
   "outputs": [
    {
     "data": {
      "text/html": [
       "<style type='text/css'>\n",
       ".datatable table.frame { margin-bottom: 0; }\n",
       ".datatable table.frame thead { border-bottom: none; }\n",
       ".datatable table.frame tr.coltypes td {  color: #FFFFFF;  line-height: 6px;  padding: 0 0.5em;}\n",
       ".datatable .bool    { background: #DDDD99; }\n",
       ".datatable .object  { background: #565656; }\n",
       ".datatable .int     { background: #5D9E5D; }\n",
       ".datatable .float   { background: #4040CC; }\n",
       ".datatable .str     { background: #CC4040; }\n",
       ".datatable .row_index {  background: var(--jp-border-color3);  border-right: 1px solid var(--jp-border-color0);  color: var(--jp-ui-font-color3);  font-size: 9px;}\n",
       ".datatable .frame tr.coltypes .row_index {  background: var(--jp-border-color0);}\n",
       ".datatable th:nth-child(2) { padding-left: 12px; }\n",
       ".datatable .hellipsis {  color: var(--jp-cell-editor-border-color);}\n",
       ".datatable .vellipsis {  background: var(--jp-layout-color0);  color: var(--jp-cell-editor-border-color);}\n",
       ".datatable .na {  color: var(--jp-cell-editor-border-color);  font-size: 80%;}\n",
       ".datatable .footer { font-size: 9px; }\n",
       ".datatable .frame_dimensions {  background: var(--jp-border-color3);  border-top: 1px solid var(--jp-border-color0);  color: var(--jp-ui-font-color3);  display: inline-block;  opacity: 0.6;  padding: 1px 10px 1px 5px;}\n",
       "</style>\n"
      ],
      "text/plain": [
       "<IPython.core.display.HTML object>"
      ]
     },
     "metadata": {},
     "output_type": "display_data"
    },
    {
     "name": "stdout",
     "output_type": "stream",
     "text": [
      "/kaggle/input/real-estate-price-prediction-ds1/sample_submission.csv\n",
      "/kaggle/input/real-estate-price-prediction-ds1/train.csv\n",
      "/kaggle/input/real-estate-price-prediction-ds1/test.csv\n"
     ]
    }
   ],
   "source": [
    "import numpy as np # linear algebra\n",
    "import pandas as pd # data processing, CSV file I/O (e.g. pd.read_csv)\n",
    "import matplotlib\n",
    "import matplotlib.pyplot as plt\n",
    "%matplotlib inline\n",
    "import seaborn as sns\n",
    "\n",
    "\n",
    "from sklearn.model_selection import train_test_split, KFold, GridSearchCV, cross_val_score\n",
    "from sklearn.preprocessing import StandardScaler, RobustScaler\n",
    "from sklearn.ensemble import RandomForestRegressor\n",
    "from lightgbm import LGBMRegressor\n",
    "from catboost import CatBoostRegressor\n",
    "from sklearn.metrics import r2_score as r2\n",
    "\n",
    "import datetime\n",
    "import gc # garbaqe collector\n",
    "\n",
    "import warnings\n",
    "warnings.filterwarnings('ignore')\n",
    "\n",
    "import os\n",
    "for dirname, _, filenames in os.walk('/kaggle/input'):\n",
    "    for filename in filenames:\n",
    "        print(os.path.join(dirname, filename))"
   ]
  },
  {
   "cell_type": "code",
   "execution_count": 2,
   "metadata": {
    "execution": {
     "iopub.execute_input": "2021-06-05T17:20:15.744245Z",
     "iopub.status.busy": "2021-06-05T17:20:15.743576Z",
     "iopub.status.idle": "2021-06-05T17:20:15.747331Z",
     "shell.execute_reply": "2021-06-05T17:20:15.747828Z",
     "shell.execute_reply.started": "2021-06-05T16:24:15.422466Z"
    },
    "papermill": {
     "duration": 0.040978,
     "end_time": "2021-06-05T17:20:15.748026",
     "exception": false,
     "start_time": "2021-06-05T17:20:15.707048",
     "status": "completed"
    },
    "tags": []
   },
   "outputs": [],
   "source": [
    "matplotlib.rcParams.update({'font.size': 14})"
   ]
  },
  {
   "cell_type": "code",
   "execution_count": 3,
   "metadata": {
    "execution": {
     "iopub.execute_input": "2021-06-05T17:20:15.820663Z",
     "iopub.status.busy": "2021-06-05T17:20:15.820160Z",
     "iopub.status.idle": "2021-06-05T17:20:15.824771Z",
     "shell.execute_reply": "2021-06-05T17:20:15.825190Z",
     "shell.execute_reply.started": "2021-06-05T16:24:15.429194Z"
    },
    "papermill": {
     "duration": 0.042612,
     "end_time": "2021-06-05T17:20:15.825326",
     "exception": false,
     "start_time": "2021-06-05T17:20:15.782714",
     "status": "completed"
    },
    "tags": []
   },
   "outputs": [],
   "source": [
    "def evaluate_preds(train_true_values, train_pred_values, test_true_values, test_pred_values):\n",
    "    print(\"Train R2:\\t\" + str(round(r2(train_true_values, train_pred_values), 3)))\n",
    "    print(\"Test R2:\\t\" + str(round(r2(test_true_values, test_pred_values), 3)))\n",
    "    \n",
    "    plt.figure(figsize=(18,10))\n",
    "    \n",
    "    plt.subplot(121)\n",
    "    sns.scatterplot(x=train_pred_values, y=train_true_values)\n",
    "    plt.xlabel('Predicted values')\n",
    "    plt.ylabel('True values')\n",
    "    plt.title('Train sample prediction')\n",
    "    \n",
    "    plt.subplot(122)\n",
    "    sns.scatterplot(x=test_pred_values, y=test_true_values)\n",
    "    plt.xlabel('Predicted values')\n",
    "    plt.ylabel('True values')\n",
    "    plt.title('Test sample prediction')\n",
    "\n",
    "    plt.show()"
   ]
  },
  {
   "cell_type": "markdown",
   "metadata": {
    "papermill": {
     "duration": 0.022007,
     "end_time": "2021-06-05T17:20:15.869577",
     "exception": false,
     "start_time": "2021-06-05T17:20:15.847570",
     "status": "completed"
    },
    "tags": []
   },
   "source": [
    "## Data loading"
   ]
  },
  {
   "cell_type": "code",
   "execution_count": 4,
   "metadata": {
    "execution": {
     "iopub.execute_input": "2021-06-05T17:20:15.920665Z",
     "iopub.status.busy": "2021-06-05T17:20:15.920197Z",
     "iopub.status.idle": "2021-06-05T17:20:16.027325Z",
     "shell.execute_reply": "2021-06-05T17:20:16.027845Z",
     "shell.execute_reply.started": "2021-06-05T17:13:39.117331Z"
    },
    "papermill": {
     "duration": 0.135631,
     "end_time": "2021-06-05T17:20:16.028049",
     "exception": false,
     "start_time": "2021-06-05T17:20:15.892418",
     "status": "completed"
    },
    "tags": []
   },
   "outputs": [
    {
     "name": "stdout",
     "output_type": "stream",
     "text": [
      "Number of lines in the train: 10000\n",
      "Number of lines in the test: 5000\n",
      "Number of lines in the samples: 5000\n"
     ]
    }
   ],
   "source": [
    "train_df = pd.read_csv('/kaggle/input/real-estate-price-prediction-ds1/train.csv')\n",
    "test_df = pd.read_csv('/kaggle/input/real-estate-price-prediction-ds1/test.csv')\n",
    "submission_df = pd.read_csv('/kaggle/input/real-estate-price-prediction-ds1/sample_submission.csv')\n",
    "\n",
    "print('Number of lines in the train:', train_df.shape[0])\n",
    "print('Number of lines in the test:', test_df.shape[0])\n",
    "print('Number of lines in the samples:', submission_df.shape[0])"
   ]
  },
  {
   "cell_type": "code",
   "execution_count": 5,
   "metadata": {
    "execution": {
     "iopub.execute_input": "2021-06-05T17:20:16.105205Z",
     "iopub.status.busy": "2021-06-05T17:20:16.104564Z",
     "iopub.status.idle": "2021-06-05T17:20:16.128155Z",
     "shell.execute_reply": "2021-06-05T17:20:16.128744Z",
     "shell.execute_reply.started": "2021-06-05T16:24:15.596027Z"
    },
    "papermill": {
     "duration": 0.066414,
     "end_time": "2021-06-05T17:20:16.128901",
     "exception": false,
     "start_time": "2021-06-05T17:20:16.062487",
     "status": "completed"
    },
    "tags": []
   },
   "outputs": [
    {
     "data": {
      "text/html": [
       "<div>\n",
       "<style scoped>\n",
       "    .dataframe tbody tr th:only-of-type {\n",
       "        vertical-align: middle;\n",
       "    }\n",
       "\n",
       "    .dataframe tbody tr th {\n",
       "        vertical-align: top;\n",
       "    }\n",
       "\n",
       "    .dataframe thead th {\n",
       "        text-align: right;\n",
       "    }\n",
       "</style>\n",
       "<table border=\"1\" class=\"dataframe\">\n",
       "  <thead>\n",
       "    <tr style=\"text-align: right;\">\n",
       "      <th></th>\n",
       "      <th>Id</th>\n",
       "      <th>DistrictId</th>\n",
       "      <th>Rooms</th>\n",
       "      <th>Square</th>\n",
       "      <th>LifeSquare</th>\n",
       "      <th>KitchenSquare</th>\n",
       "      <th>Floor</th>\n",
       "      <th>HouseFloor</th>\n",
       "      <th>HouseYear</th>\n",
       "      <th>Ecology_1</th>\n",
       "      <th>Ecology_2</th>\n",
       "      <th>Ecology_3</th>\n",
       "      <th>Social_1</th>\n",
       "      <th>Social_2</th>\n",
       "      <th>Social_3</th>\n",
       "      <th>Healthcare_1</th>\n",
       "      <th>Helthcare_2</th>\n",
       "      <th>Shops_1</th>\n",
       "      <th>Shops_2</th>\n",
       "      <th>Price</th>\n",
       "    </tr>\n",
       "  </thead>\n",
       "  <tbody>\n",
       "    <tr>\n",
       "      <th>0</th>\n",
       "      <td>14038</td>\n",
       "      <td>35</td>\n",
       "      <td>2.0</td>\n",
       "      <td>47.981561</td>\n",
       "      <td>29.442751</td>\n",
       "      <td>6.0</td>\n",
       "      <td>7</td>\n",
       "      <td>9.0</td>\n",
       "      <td>1969</td>\n",
       "      <td>0.089040</td>\n",
       "      <td>B</td>\n",
       "      <td>B</td>\n",
       "      <td>33</td>\n",
       "      <td>7976</td>\n",
       "      <td>5</td>\n",
       "      <td>NaN</td>\n",
       "      <td>0</td>\n",
       "      <td>11</td>\n",
       "      <td>B</td>\n",
       "      <td>184966.930730</td>\n",
       "    </tr>\n",
       "    <tr>\n",
       "      <th>1</th>\n",
       "      <td>15053</td>\n",
       "      <td>41</td>\n",
       "      <td>3.0</td>\n",
       "      <td>65.683640</td>\n",
       "      <td>40.049543</td>\n",
       "      <td>8.0</td>\n",
       "      <td>7</td>\n",
       "      <td>9.0</td>\n",
       "      <td>1978</td>\n",
       "      <td>0.000070</td>\n",
       "      <td>B</td>\n",
       "      <td>B</td>\n",
       "      <td>46</td>\n",
       "      <td>10309</td>\n",
       "      <td>1</td>\n",
       "      <td>240.0</td>\n",
       "      <td>1</td>\n",
       "      <td>16</td>\n",
       "      <td>B</td>\n",
       "      <td>300009.450063</td>\n",
       "    </tr>\n",
       "    <tr>\n",
       "      <th>2</th>\n",
       "      <td>4765</td>\n",
       "      <td>53</td>\n",
       "      <td>2.0</td>\n",
       "      <td>44.947953</td>\n",
       "      <td>29.197612</td>\n",
       "      <td>0.0</td>\n",
       "      <td>8</td>\n",
       "      <td>12.0</td>\n",
       "      <td>1968</td>\n",
       "      <td>0.049637</td>\n",
       "      <td>B</td>\n",
       "      <td>B</td>\n",
       "      <td>34</td>\n",
       "      <td>7759</td>\n",
       "      <td>0</td>\n",
       "      <td>229.0</td>\n",
       "      <td>1</td>\n",
       "      <td>3</td>\n",
       "      <td>B</td>\n",
       "      <td>220925.908524</td>\n",
       "    </tr>\n",
       "    <tr>\n",
       "      <th>3</th>\n",
       "      <td>5809</td>\n",
       "      <td>58</td>\n",
       "      <td>2.0</td>\n",
       "      <td>53.352981</td>\n",
       "      <td>52.731512</td>\n",
       "      <td>9.0</td>\n",
       "      <td>8</td>\n",
       "      <td>17.0</td>\n",
       "      <td>1977</td>\n",
       "      <td>0.437885</td>\n",
       "      <td>B</td>\n",
       "      <td>B</td>\n",
       "      <td>23</td>\n",
       "      <td>5735</td>\n",
       "      <td>3</td>\n",
       "      <td>1084.0</td>\n",
       "      <td>0</td>\n",
       "      <td>5</td>\n",
       "      <td>B</td>\n",
       "      <td>175616.227217</td>\n",
       "    </tr>\n",
       "    <tr>\n",
       "      <th>4</th>\n",
       "      <td>10783</td>\n",
       "      <td>99</td>\n",
       "      <td>1.0</td>\n",
       "      <td>39.649192</td>\n",
       "      <td>23.776169</td>\n",
       "      <td>7.0</td>\n",
       "      <td>11</td>\n",
       "      <td>12.0</td>\n",
       "      <td>1976</td>\n",
       "      <td>0.012339</td>\n",
       "      <td>B</td>\n",
       "      <td>B</td>\n",
       "      <td>35</td>\n",
       "      <td>5776</td>\n",
       "      <td>1</td>\n",
       "      <td>2078.0</td>\n",
       "      <td>2</td>\n",
       "      <td>4</td>\n",
       "      <td>B</td>\n",
       "      <td>150226.531644</td>\n",
       "    </tr>\n",
       "  </tbody>\n",
       "</table>\n",
       "</div>"
      ],
      "text/plain": [
       "      Id  DistrictId  Rooms     Square  LifeSquare  KitchenSquare  Floor  \\\n",
       "0  14038          35    2.0  47.981561   29.442751            6.0      7   \n",
       "1  15053          41    3.0  65.683640   40.049543            8.0      7   \n",
       "2   4765          53    2.0  44.947953   29.197612            0.0      8   \n",
       "3   5809          58    2.0  53.352981   52.731512            9.0      8   \n",
       "4  10783          99    1.0  39.649192   23.776169            7.0     11   \n",
       "\n",
       "   HouseFloor  HouseYear  Ecology_1 Ecology_2 Ecology_3  Social_1  Social_2  \\\n",
       "0         9.0       1969   0.089040         B         B        33      7976   \n",
       "1         9.0       1978   0.000070         B         B        46     10309   \n",
       "2        12.0       1968   0.049637         B         B        34      7759   \n",
       "3        17.0       1977   0.437885         B         B        23      5735   \n",
       "4        12.0       1976   0.012339         B         B        35      5776   \n",
       "\n",
       "   Social_3  Healthcare_1  Helthcare_2  Shops_1 Shops_2          Price  \n",
       "0         5           NaN            0       11       B  184966.930730  \n",
       "1         1         240.0            1       16       B  300009.450063  \n",
       "2         0         229.0            1        3       B  220925.908524  \n",
       "3         3        1084.0            0        5       B  175616.227217  \n",
       "4         1        2078.0            2        4       B  150226.531644  "
      ]
     },
     "execution_count": 5,
     "metadata": {},
     "output_type": "execute_result"
    }
   ],
   "source": [
    "train_df.head()"
   ]
  },
  {
   "cell_type": "markdown",
   "metadata": {
    "papermill": {
     "duration": 0.034484,
     "end_time": "2021-06-05T17:20:16.197953",
     "exception": false,
     "start_time": "2021-06-05T17:20:16.163469",
     "status": "completed"
    },
    "tags": []
   },
   "source": [
    "## EDA:"
   ]
  },
  {
   "cell_type": "code",
   "execution_count": 6,
   "metadata": {
    "execution": {
     "iopub.execute_input": "2021-06-05T17:20:16.270225Z",
     "iopub.status.busy": "2021-06-05T17:20:16.269550Z",
     "iopub.status.idle": "2021-06-05T17:20:16.281351Z",
     "shell.execute_reply": "2021-06-05T17:20:16.280672Z",
     "shell.execute_reply.started": "2021-06-05T17:13:20.184661Z"
    },
    "papermill": {
     "duration": 0.048586,
     "end_time": "2021-06-05T17:20:16.281510",
     "exception": false,
     "start_time": "2021-06-05T17:20:16.232924",
     "status": "completed"
    },
    "tags": []
   },
   "outputs": [
    {
     "data": {
      "text/plain": [
       "Id                 int64\n",
       "DistrictId         int64\n",
       "Rooms            float64\n",
       "Square           float64\n",
       "LifeSquare       float64\n",
       "KitchenSquare    float64\n",
       "Floor              int64\n",
       "HouseFloor       float64\n",
       "HouseYear          int64\n",
       "Ecology_1        float64\n",
       "Ecology_2         object\n",
       "Ecology_3         object\n",
       "Social_1           int64\n",
       "Social_2           int64\n",
       "Social_3           int64\n",
       "Healthcare_1     float64\n",
       "Helthcare_2        int64\n",
       "Shops_1            int64\n",
       "Shops_2           object\n",
       "Price            float64\n",
       "dtype: object"
      ]
     },
     "execution_count": 6,
     "metadata": {},
     "output_type": "execute_result"
    }
   ],
   "source": [
    "train_df.dtypes"
   ]
  },
  {
   "cell_type": "markdown",
   "metadata": {
    "papermill": {
     "duration": 0.02938,
     "end_time": "2021-06-05T17:20:16.335917",
     "exception": false,
     "start_time": "2021-06-05T17:20:16.306537",
     "status": "completed"
    },
    "tags": []
   },
   "source": [
    "### Division of signs into numeric and text"
   ]
  },
  {
   "cell_type": "code",
   "execution_count": 7,
   "metadata": {
    "execution": {
     "iopub.execute_input": "2021-06-05T17:20:16.396576Z",
     "iopub.status.busy": "2021-06-05T17:20:16.395005Z",
     "iopub.status.idle": "2021-06-05T17:20:16.401537Z",
     "shell.execute_reply": "2021-06-05T17:20:16.400958Z",
     "shell.execute_reply.started": "2021-06-05T16:24:15.665297Z"
    },
    "papermill": {
     "duration": 0.039735,
     "end_time": "2021-06-05T17:20:16.401658",
     "exception": false,
     "start_time": "2021-06-05T17:20:16.361923",
     "status": "completed"
    },
    "tags": []
   },
   "outputs": [
    {
     "data": {
      "text/plain": [
       "['Id',\n",
       " 'DistrictId',\n",
       " 'Rooms',\n",
       " 'Square',\n",
       " 'LifeSquare',\n",
       " 'KitchenSquare',\n",
       " 'Floor',\n",
       " 'HouseFloor',\n",
       " 'HouseYear',\n",
       " 'Ecology_1',\n",
       " 'Social_1',\n",
       " 'Social_2',\n",
       " 'Social_3',\n",
       " 'Healthcare_1',\n",
       " 'Helthcare_2',\n",
       " 'Shops_1',\n",
       " 'Price']"
      ]
     },
     "execution_count": 7,
     "metadata": {},
     "output_type": "execute_result"
    }
   ],
   "source": [
    "num_feat = list(train_df.select_dtypes(exclude='object').columns)\n",
    "obj_feat = list(train_df.select_dtypes(include='object').columns)\n",
    "target = 'Price'\n",
    "\n",
    "num_feat"
   ]
  },
  {
   "cell_type": "markdown",
   "metadata": {
    "papermill": {
     "duration": 0.023582,
     "end_time": "2021-06-05T17:20:16.454080",
     "exception": false,
     "start_time": "2021-06-05T17:20:16.430498",
     "status": "completed"
    },
    "tags": []
   },
   "source": [
    "### ID should be string type"
   ]
  },
  {
   "cell_type": "code",
   "execution_count": 8,
   "metadata": {
    "execution": {
     "iopub.execute_input": "2021-06-05T17:20:16.524265Z",
     "iopub.status.busy": "2021-06-05T17:20:16.523744Z",
     "iopub.status.idle": "2021-06-05T17:20:16.529249Z",
     "shell.execute_reply": "2021-06-05T17:20:16.529621Z",
     "shell.execute_reply.started": "2021-06-05T16:24:15.685985Z"
    },
    "papermill": {
     "duration": 0.051117,
     "end_time": "2021-06-05T17:20:16.529763",
     "exception": false,
     "start_time": "2021-06-05T17:20:16.478646",
     "status": "completed"
    },
    "tags": []
   },
   "outputs": [],
   "source": [
    "train_df['Id'] = train_df['Id'].astype(str)"
   ]
  },
  {
   "cell_type": "markdown",
   "metadata": {
    "papermill": {
     "duration": 0.024482,
     "end_time": "2021-06-05T17:20:16.579658",
     "exception": false,
     "start_time": "2021-06-05T17:20:16.555176",
     "status": "completed"
    },
    "tags": []
   },
   "source": [
    "### Search for outliers"
   ]
  },
  {
   "cell_type": "code",
   "execution_count": 9,
   "metadata": {
    "execution": {
     "iopub.execute_input": "2021-06-05T17:20:16.629903Z",
     "iopub.status.busy": "2021-06-05T17:20:16.629466Z",
     "iopub.status.idle": "2021-06-05T17:20:18.249423Z",
     "shell.execute_reply": "2021-06-05T17:20:18.249800Z",
     "shell.execute_reply.started": "2021-06-05T16:24:15.717243Z"
    },
    "papermill": {
     "duration": 1.645951,
     "end_time": "2021-06-05T17:20:18.249958",
     "exception": false,
     "start_time": "2021-06-05T17:20:16.604007",
     "status": "completed"
    },
    "tags": []
   },
   "outputs": [
    {
     "data": {
      "image/png": "[encoded data removed]",
      "text/plain": [
       "<Figure size 1152x1152 with 16 Axes>"
      ]
     },
     "metadata": {
      "needs_background": "light"
     },
     "output_type": "display_data"
    }
   ],
   "source": [
    "train_df[num_feat].hist(\n",
    "    figsize=(16,16)\n",
    ")\n",
    "plt.show()"
   ]
  },
  {
   "cell_type": "markdown",
   "metadata": {
    "papermill": {
     "duration": 0.02533,
     "end_time": "2021-06-05T17:20:18.309831",
     "exception": false,
     "start_time": "2021-06-05T17:20:18.284501",
     "status": "completed"
    },
    "tags": []
   },
   "source": [
    "#### Emissions are observed in: HouseYear, KitchenSquare.\n",
    "Signs with an abnormally high value: HouseFloor, LifeSquare, Rooms, Square. \n",
    "It will need to be limited"
   ]
  },
  {
   "cell_type": "code",
   "execution_count": 10,
   "metadata": {
    "execution": {
     "iopub.execute_input": "2021-06-05T17:20:18.363151Z",
     "iopub.status.busy": "2021-06-05T17:20:18.362664Z",
     "iopub.status.idle": "2021-06-05T17:20:18.415532Z",
     "shell.execute_reply": "2021-06-05T17:20:18.415132Z",
     "shell.execute_reply.started": "2021-06-05T16:24:25.024065Z"
    },
    "papermill": {
     "duration": 0.080841,
     "end_time": "2021-06-05T17:20:18.415635",
     "exception": false,
     "start_time": "2021-06-05T17:20:18.334794",
     "status": "completed"
    },
    "tags": []
   },
   "outputs": [
    {
     "data": {
      "text/html": [
       "<div>\n",
       "<style scoped>\n",
       "    .dataframe tbody tr th:only-of-type {\n",
       "        vertical-align: middle;\n",
       "    }\n",
       "\n",
       "    .dataframe tbody tr th {\n",
       "        vertical-align: top;\n",
       "    }\n",
       "\n",
       "    .dataframe thead th {\n",
       "        text-align: right;\n",
       "    }\n",
       "</style>\n",
       "<table border=\"1\" class=\"dataframe\">\n",
       "  <thead>\n",
       "    <tr style=\"text-align: right;\">\n",
       "      <th></th>\n",
       "      <th>count</th>\n",
       "      <th>mean</th>\n",
       "      <th>std</th>\n",
       "      <th>min</th>\n",
       "      <th>25%</th>\n",
       "      <th>50%</th>\n",
       "      <th>75%</th>\n",
       "      <th>max</th>\n",
       "    </tr>\n",
       "  </thead>\n",
       "  <tbody>\n",
       "    <tr>\n",
       "      <th>DistrictId</th>\n",
       "      <td>10000.0</td>\n",
       "      <td>50.400800</td>\n",
       "      <td>43.587592</td>\n",
       "      <td>0.000000</td>\n",
       "      <td>20.000000</td>\n",
       "      <td>36.000000</td>\n",
       "      <td>75.000000</td>\n",
       "      <td>2.090000e+02</td>\n",
       "    </tr>\n",
       "    <tr>\n",
       "      <th>Rooms</th>\n",
       "      <td>10000.0</td>\n",
       "      <td>1.890500</td>\n",
       "      <td>0.839512</td>\n",
       "      <td>0.000000</td>\n",
       "      <td>1.000000</td>\n",
       "      <td>2.000000</td>\n",
       "      <td>2.000000</td>\n",
       "      <td>1.900000e+01</td>\n",
       "    </tr>\n",
       "    <tr>\n",
       "      <th>Square</th>\n",
       "      <td>10000.0</td>\n",
       "      <td>56.315775</td>\n",
       "      <td>21.058732</td>\n",
       "      <td>1.136859</td>\n",
       "      <td>41.774881</td>\n",
       "      <td>52.513310</td>\n",
       "      <td>65.900625</td>\n",
       "      <td>6.410652e+02</td>\n",
       "    </tr>\n",
       "    <tr>\n",
       "      <th>LifeSquare</th>\n",
       "      <td>7887.0</td>\n",
       "      <td>37.199645</td>\n",
       "      <td>86.241209</td>\n",
       "      <td>0.370619</td>\n",
       "      <td>22.769832</td>\n",
       "      <td>32.781260</td>\n",
       "      <td>45.128803</td>\n",
       "      <td>7.480592e+03</td>\n",
       "    </tr>\n",
       "    <tr>\n",
       "      <th>KitchenSquare</th>\n",
       "      <td>10000.0</td>\n",
       "      <td>6.273300</td>\n",
       "      <td>28.560917</td>\n",
       "      <td>0.000000</td>\n",
       "      <td>1.000000</td>\n",
       "      <td>6.000000</td>\n",
       "      <td>9.000000</td>\n",
       "      <td>2.014000e+03</td>\n",
       "    </tr>\n",
       "    <tr>\n",
       "      <th>Floor</th>\n",
       "      <td>10000.0</td>\n",
       "      <td>8.526700</td>\n",
       "      <td>5.241148</td>\n",
       "      <td>1.000000</td>\n",
       "      <td>4.000000</td>\n",
       "      <td>7.000000</td>\n",
       "      <td>12.000000</td>\n",
       "      <td>4.200000e+01</td>\n",
       "    </tr>\n",
       "    <tr>\n",
       "      <th>HouseFloor</th>\n",
       "      <td>10000.0</td>\n",
       "      <td>12.609400</td>\n",
       "      <td>6.775974</td>\n",
       "      <td>0.000000</td>\n",
       "      <td>9.000000</td>\n",
       "      <td>13.000000</td>\n",
       "      <td>17.000000</td>\n",
       "      <td>1.170000e+02</td>\n",
       "    </tr>\n",
       "    <tr>\n",
       "      <th>HouseYear</th>\n",
       "      <td>10000.0</td>\n",
       "      <td>3990.166300</td>\n",
       "      <td>200500.261427</td>\n",
       "      <td>1910.000000</td>\n",
       "      <td>1974.000000</td>\n",
       "      <td>1977.000000</td>\n",
       "      <td>2001.000000</td>\n",
       "      <td>2.005201e+07</td>\n",
       "    </tr>\n",
       "    <tr>\n",
       "      <th>Ecology_1</th>\n",
       "      <td>10000.0</td>\n",
       "      <td>0.118858</td>\n",
       "      <td>0.119025</td>\n",
       "      <td>0.000000</td>\n",
       "      <td>0.017647</td>\n",
       "      <td>0.075424</td>\n",
       "      <td>0.195781</td>\n",
       "      <td>5.218671e-01</td>\n",
       "    </tr>\n",
       "    <tr>\n",
       "      <th>Social_1</th>\n",
       "      <td>10000.0</td>\n",
       "      <td>24.687000</td>\n",
       "      <td>17.532614</td>\n",
       "      <td>0.000000</td>\n",
       "      <td>6.000000</td>\n",
       "      <td>25.000000</td>\n",
       "      <td>36.000000</td>\n",
       "      <td>7.400000e+01</td>\n",
       "    </tr>\n",
       "    <tr>\n",
       "      <th>Social_2</th>\n",
       "      <td>10000.0</td>\n",
       "      <td>5352.157400</td>\n",
       "      <td>4006.799803</td>\n",
       "      <td>168.000000</td>\n",
       "      <td>1564.000000</td>\n",
       "      <td>5285.000000</td>\n",
       "      <td>7227.000000</td>\n",
       "      <td>1.908300e+04</td>\n",
       "    </tr>\n",
       "    <tr>\n",
       "      <th>Social_3</th>\n",
       "      <td>10000.0</td>\n",
       "      <td>8.039200</td>\n",
       "      <td>23.831875</td>\n",
       "      <td>0.000000</td>\n",
       "      <td>0.000000</td>\n",
       "      <td>2.000000</td>\n",
       "      <td>5.000000</td>\n",
       "      <td>1.410000e+02</td>\n",
       "    </tr>\n",
       "    <tr>\n",
       "      <th>Healthcare_1</th>\n",
       "      <td>5202.0</td>\n",
       "      <td>1142.904460</td>\n",
       "      <td>1021.517264</td>\n",
       "      <td>0.000000</td>\n",
       "      <td>350.000000</td>\n",
       "      <td>900.000000</td>\n",
       "      <td>1548.000000</td>\n",
       "      <td>4.849000e+03</td>\n",
       "    </tr>\n",
       "    <tr>\n",
       "      <th>Helthcare_2</th>\n",
       "      <td>10000.0</td>\n",
       "      <td>1.319500</td>\n",
       "      <td>1.493601</td>\n",
       "      <td>0.000000</td>\n",
       "      <td>0.000000</td>\n",
       "      <td>1.000000</td>\n",
       "      <td>2.000000</td>\n",
       "      <td>6.000000e+00</td>\n",
       "    </tr>\n",
       "    <tr>\n",
       "      <th>Shops_1</th>\n",
       "      <td>10000.0</td>\n",
       "      <td>4.231300</td>\n",
       "      <td>4.806341</td>\n",
       "      <td>0.000000</td>\n",
       "      <td>1.000000</td>\n",
       "      <td>3.000000</td>\n",
       "      <td>6.000000</td>\n",
       "      <td>2.300000e+01</td>\n",
       "    </tr>\n",
       "    <tr>\n",
       "      <th>Price</th>\n",
       "      <td>10000.0</td>\n",
       "      <td>214138.857399</td>\n",
       "      <td>92872.293865</td>\n",
       "      <td>59174.778028</td>\n",
       "      <td>153872.633942</td>\n",
       "      <td>192269.644879</td>\n",
       "      <td>249135.462171</td>\n",
       "      <td>6.332335e+05</td>\n",
       "    </tr>\n",
       "  </tbody>\n",
       "</table>\n",
       "</div>"
      ],
      "text/plain": [
       "                 count           mean            std           min  \\\n",
       "DistrictId     10000.0      50.400800      43.587592      0.000000   \n",
       "Rooms          10000.0       1.890500       0.839512      0.000000   \n",
       "Square         10000.0      56.315775      21.058732      1.136859   \n",
       "LifeSquare      7887.0      37.199645      86.241209      0.370619   \n",
       "KitchenSquare  10000.0       6.273300      28.560917      0.000000   \n",
       "Floor          10000.0       8.526700       5.241148      1.000000   \n",
       "HouseFloor     10000.0      12.609400       6.775974      0.000000   \n",
       "HouseYear      10000.0    3990.166300  200500.261427   1910.000000   \n",
       "Ecology_1      10000.0       0.118858       0.119025      0.000000   \n",
       "Social_1       10000.0      24.687000      17.532614      0.000000   \n",
       "Social_2       10000.0    5352.157400    4006.799803    168.000000   \n",
       "Social_3       10000.0       8.039200      23.831875      0.000000   \n",
       "Healthcare_1    5202.0    1142.904460    1021.517264      0.000000   \n",
       "Helthcare_2    10000.0       1.319500       1.493601      0.000000   \n",
       "Shops_1        10000.0       4.231300       4.806341      0.000000   \n",
       "Price          10000.0  214138.857399   92872.293865  59174.778028   \n",
       "\n",
       "                         25%            50%            75%           max  \n",
       "DistrictId         20.000000      36.000000      75.000000  2.090000e+02  \n",
       "Rooms               1.000000       2.000000       2.000000  1.900000e+01  \n",
       "Square             41.774881      52.513310      65.900625  6.410652e+02  \n",
       "LifeSquare         22.769832      32.781260      45.128803  7.480592e+03  \n",
       "KitchenSquare       1.000000       6.000000       9.000000  2.014000e+03  \n",
       "Floor               4.000000       7.000000      12.000000  4.200000e+01  \n",
       "HouseFloor          9.000000      13.000000      17.000000  1.170000e+02  \n",
       "HouseYear        1974.000000    1977.000000    2001.000000  2.005201e+07  \n",
       "Ecology_1           0.017647       0.075424       0.195781  5.218671e-01  \n",
       "Social_1            6.000000      25.000000      36.000000  7.400000e+01  \n",
       "Social_2         1564.000000    5285.000000    7227.000000  1.908300e+04  \n",
       "Social_3            0.000000       2.000000       5.000000  1.410000e+02  \n",
       "Healthcare_1      350.000000     900.000000    1548.000000  4.849000e+03  \n",
       "Helthcare_2         0.000000       1.000000       2.000000  6.000000e+00  \n",
       "Shops_1             1.000000       3.000000       6.000000  2.300000e+01  \n",
       "Price          153872.633942  192269.644879  249135.462171  6.332335e+05  "
      ]
     },
     "execution_count": 10,
     "metadata": {},
     "output_type": "execute_result"
    }
   ],
   "source": [
    "train_df.describe().T"
   ]
  },
  {
   "cell_type": "markdown",
   "metadata": {
    "papermill": {
     "duration": 0.025499,
     "end_time": "2021-06-05T17:20:18.466671",
     "exception": false,
     "start_time": "2021-06-05T17:20:18.441172",
     "status": "completed"
    },
    "tags": []
   },
   "source": [
    "#### Features Rooms, KitchenSquare, HouseFloor have zero values in some observations"
   ]
  },
  {
   "cell_type": "code",
   "execution_count": 11,
   "metadata": {
    "execution": {
     "iopub.execute_input": "2021-06-05T17:20:18.534735Z",
     "iopub.status.busy": "2021-06-05T17:20:18.534200Z",
     "iopub.status.idle": "2021-06-05T17:20:19.934204Z",
     "shell.execute_reply": "2021-06-05T17:20:19.934544Z",
     "shell.execute_reply.started": "2021-06-05T17:14:25.284857Z"
    },
    "papermill": {
     "duration": 1.442311,
     "end_time": "2021-06-05T17:20:19.934677",
     "exception": false,
     "start_time": "2021-06-05T17:20:18.492366",
     "status": "completed"
    },
    "tags": []
   },
   "outputs": [
    {
     "data": {
      "image/png": "[encoded data removed]",
      "text/plain": [
       "<Figure size 576x576 with 3 Axes>"
      ]
     },
     "metadata": {
      "needs_background": "light"
     },
     "output_type": "display_data"
    }
   ],
   "source": [
    "grid = sns.jointplot(train_df['Rooms'], train_df['Price'], kind='reg')\n",
    "grid.fig.set_figwidth(8)\n",
    "grid.fig.set_figheight(8)\n"
   ]
  },
  {
   "cell_type": "code",
   "execution_count": 12,
   "metadata": {
    "execution": {
     "iopub.execute_input": "2021-06-05T17:20:19.991627Z",
     "iopub.status.busy": "2021-06-05T17:20:19.991149Z",
     "iopub.status.idle": "2021-06-05T17:20:25.199374Z",
     "shell.execute_reply": "2021-06-05T17:20:25.198955Z",
     "shell.execute_reply.started": "2021-06-05T17:14:34.146150Z"
    },
    "papermill": {
     "duration": 5.237596,
     "end_time": "2021-06-05T17:20:25.199482",
     "exception": false,
     "start_time": "2021-06-05T17:20:19.961886",
     "status": "completed"
    },
    "tags": []
   },
   "outputs": [
    {
     "data": {
      "image/png": "[encoded data removed]",
      "text/plain": [
       "<Figure size 576x576 with 3 Axes>"
      ]
     },
     "metadata": {
      "needs_background": "light"
     },
     "output_type": "display_data"
    }
   ],
   "source": [
    "grid = sns.jointplot(train_df['KitchenSquare'], train_df['Price'], kind='reg')\n",
    "grid.fig.set_figwidth(8)\n",
    "grid.fig.set_figheight(8)"
   ]
  },
  {
   "cell_type": "markdown",
   "metadata": {
    "papermill": {
     "duration": 0.027356,
     "end_time": "2021-06-05T17:20:25.254846",
     "exception": false,
     "start_time": "2021-06-05T17:20:25.227490",
     "status": "completed"
    },
    "tags": []
   },
   "source": [
    "#### Cut off values less than 1 and more than 250"
   ]
  },
  {
   "cell_type": "code",
   "execution_count": 13,
   "metadata": {
    "execution": {
     "iopub.execute_input": "2021-06-05T17:20:25.315871Z",
     "iopub.status.busy": "2021-06-05T17:20:25.315410Z",
     "iopub.status.idle": "2021-06-05T17:20:26.667633Z",
     "shell.execute_reply": "2021-06-05T17:20:26.667053Z",
     "shell.execute_reply.started": "2021-06-05T17:14:48.602886Z"
    },
    "papermill": {
     "duration": 1.385196,
     "end_time": "2021-06-05T17:20:26.667757",
     "exception": false,
     "start_time": "2021-06-05T17:20:25.282561",
     "status": "completed"
    },
    "tags": []
   },
   "outputs": [
    {
     "data": {
      "image/png": "[encoded data removed]",
      "text/plain": [
       "<Figure size 576x576 with 3 Axes>"
      ]
     },
     "metadata": {
      "needs_background": "light"
     },
     "output_type": "display_data"
    }
   ],
   "source": [
    "train_df_temp = train_df.loc[train_df['KitchenSquare']<250]\n",
    "grid = sns.jointplot(train_df_temp['KitchenSquare'], train_df_temp['Price'], kind='reg')\n",
    "grid.fig.set_figwidth(8)\n",
    "grid.fig.set_figheight(8)"
   ]
  },
  {
   "cell_type": "markdown",
   "metadata": {
    "papermill": {
     "duration": 0.029154,
     "end_time": "2021-06-05T17:20:26.726782",
     "exception": false,
     "start_time": "2021-06-05T17:20:26.697628",
     "status": "completed"
    },
    "tags": []
   },
   "source": [
    "Values less than 3 sq.m. and more than 30 sq.m. count for the outliers"
   ]
  },
  {
   "cell_type": "markdown",
   "metadata": {
    "papermill": {
     "duration": 0.029712,
     "end_time": "2021-06-05T17:20:26.786180",
     "exception": false,
     "start_time": "2021-06-05T17:20:26.756468",
     "status": "completed"
    },
    "tags": []
   },
   "source": [
    "### Price distribution chart"
   ]
  },
  {
   "cell_type": "code",
   "execution_count": 14,
   "metadata": {
    "execution": {
     "iopub.execute_input": "2021-06-05T17:20:26.855014Z",
     "iopub.status.busy": "2021-06-05T17:20:26.854340Z",
     "iopub.status.idle": "2021-06-05T17:20:27.184552Z",
     "shell.execute_reply": "2021-06-05T17:20:27.184053Z",
     "shell.execute_reply.started": "2021-06-05T16:31:50.933179Z"
    },
    "papermill": {
     "duration": 0.367211,
     "end_time": "2021-06-05T17:20:27.184661",
     "exception": false,
     "start_time": "2021-06-05T17:20:26.817450",
     "status": "completed"
    },
    "tags": []
   },
   "outputs": [
    {
     "data": {
      "text/plain": [
       "<matplotlib.legend.Legend at 0x7f5a8821f710>"
      ]
     },
     "execution_count": 14,
     "metadata": {},
     "output_type": "execute_result"
    },
    {
     "data": {
      "image/png": "[encoded data removed]",
      "text/plain": [
       "<Figure size 1152x576 with 1 Axes>"
      ]
     },
     "metadata": {
      "needs_background": "light"
     },
     "output_type": "display_data"
    }
   ],
   "source": [
    "target_mean = round(train_df['Price'].mean(), 2)\n",
    "target_median = train_df['Price'].median()\n",
    "target_mode = train_df['Price'].mode()[0]\n",
    "\n",
    "plt.figure(figsize = (16, 8))\n",
    "\n",
    "sns.distplot(train_df['Price'], bins=50)\n",
    "\n",
    "y = np.linspace(0, 0.000005, 10)\n",
    "plt.plot([target_mean] * 10, y, label='target_mean', linestyle=':',  linewidth=4)\n",
    "plt.plot([target_median] * 10, y, label='target_median', linestyle='--',  linewidth=4)\n",
    "plt.plot([target_mode] * 10, y, label='target_mode', linestyle='-.', linewidth=4)\n",
    "\n",
    "plt.title('Распределение цены')\n",
    "plt.legend()"
   ]
  },
  {
   "cell_type": "markdown",
   "metadata": {
    "papermill": {
     "duration": 0.030749,
     "end_time": "2021-06-05T17:20:27.246032",
     "exception": false,
     "start_time": "2021-06-05T17:20:27.215283",
     "status": "completed"
    },
    "tags": []
   },
   "source": [
    "#### Class with data preparation"
   ]
  },
  {
   "cell_type": "code",
   "execution_count": 15,
   "metadata": {
    "execution": {
     "iopub.execute_input": "2021-06-05T17:20:27.321589Z",
     "iopub.status.busy": "2021-06-05T17:20:27.316261Z",
     "iopub.status.idle": "2021-06-05T17:20:27.328480Z",
     "shell.execute_reply": "2021-06-05T17:20:27.328034Z",
     "shell.execute_reply.started": "2021-06-05T16:45:46.310331Z"
    },
    "papermill": {
     "duration": 0.051368,
     "end_time": "2021-06-05T17:20:27.328596",
     "exception": false,
     "start_time": "2021-06-05T17:20:27.277228",
     "status": "completed"
    },
    "tags": []
   },
   "outputs": [],
   "source": [
    "class Data:\n",
    "    \n",
    "    def __init__(self):\n",
    "        \"\"\"Constants for processing outliers based on data analysis\"\"\"\n",
    "        self.Square_min = 15\n",
    "        self.Square_max = 300\n",
    "        \n",
    "        self.LifeSquare_min = 10\n",
    "        self.LifeSquare_max = 280\n",
    "        \n",
    "        self.Rooms_min = 1\n",
    "        self.Rooms_max = 5\n",
    "        \n",
    "        self.HouseFloor_min = 1\n",
    "        self.HouseFloor_max = 50\n",
    "        \n",
    "        self.KitchenSquare_min = 3\n",
    "        self.KitchenSquare_max = 30\n",
    "        \n",
    "        self.current_year = datetime.datetime.now().year\n",
    "        \n",
    "        self.medians = None\n",
    "        self.DistrictId_value_counts = None\n",
    "        self.SquareMeterPrice_by_DistrictId = None\n",
    "        self.Healthcare_1_by_DistrictId = None\n",
    "        \n",
    "        \n",
    "    def fit(self, train_df):\n",
    "        \n",
    "        # median values\n",
    "        self.medians = train_df[['LifeSquare', 'HouseFloor']].median()\n",
    "        \n",
    "        # counting popular districts\n",
    "        self.DistrictId_value_counts = dict(train_df['DistrictId'].value_counts())\n",
    "        \n",
    "        # calculation of the average price per m2 in a district\n",
    "        train_df_temp = train_df.loc[((train_df['Square'] > self.Square_min) & (train_df['Square'] < self.Square_max))]\n",
    "        train_df_temp[\"SquareMeterPrice\"] = train_df_temp[\"Price\"] / train_df_temp[\"Square\"]\n",
    "        self.SquareMeterPrice_by_DistrictId = train_df_temp.groupby('DistrictId', as_index=False)\\\n",
    "            .agg({'SquareMeterPrice': 'mean'})\\\n",
    "            .rename(columns={'SquareMeterPrice': 'AverageSquareMeterPrice'})\n",
    "        \n",
    "        # calculation of average values of  the features Healthcare_1 by districts\n",
    "        self.Healthcare_1_by_DistrictId = train_df.groupby('DistrictId', as_index=False)\\\n",
    "            .agg({'Healthcare_1': 'mean'})\\\n",
    "            .rename(columns={'Healthcare_1': 'AverageHealthcare_1'})\n",
    "        \n",
    "        del train_df_temp\n",
    "        \n",
    "    def transform(self, train_df):\n",
    "        \n",
    "        # NaN handling\n",
    "        train_df[['LifeSquare', 'HouseFloor']] = train_df[['LifeSquare', 'HouseFloor']].fillna(self.medians)\n",
    "        \n",
    "        # Outliers handling\n",
    "        \n",
    "        # Squares\n",
    "        train_df.loc[(train_df['Square'] > self.Square_max), 'Square'] = self.Square_max\n",
    "        train_df.loc[(train_df['Square'] < self.Square_min), 'Square'] = self.Square_min\n",
    "        \n",
    "        # LifeSquares\n",
    "        train_df.loc[(train_df['LifeSquare'] < self.LifeSquare_min), 'LifeSquare'] = self.LifeSquare_min\n",
    "        train_df.loc[(train_df['LifeSquare'] > self.LifeSquare_max), 'LifeSquare'] = self.LifeSquare_max\n",
    "        \n",
    "        # KitchenSquares\n",
    "        train_df.loc[(train_df['KitchenSquare'] < self.KitchenSquare_min), 'KitchenSquare'] = self.KitchenSquare_min\n",
    "        train_df.loc[(train_df['KitchenSquare'] > self.KitchenSquare_max), 'KitchenSquare'] = self.KitchenSquare_max\n",
    "        \n",
    "        # HouseYears\n",
    "        train_df.loc[(train_df['HouseYear'] > self.current_year), 'HouseYear'] = self.current_year\n",
    "        \n",
    "        # Rooms quantity\n",
    "        train_df.loc[(train_df['Rooms'] > self.Rooms_max), 'Rooms'] = self.Rooms_max\n",
    "        train_df.loc[(train_df['Rooms'] < self.Rooms_min), 'Rooms'] = self.Rooms_min\n",
    "        \n",
    "        # Housefloors\n",
    "        train_df.loc[(train_df['HouseFloor'] < self.HouseFloor_min), 'HouseFloor'] = self.HouseFloor_min\n",
    "        train_df.loc[(train_df['HouseFloor'] > self.HouseFloor_max), 'HouseFloor'] = self.HouseFloor_max\n",
    "        \n",
    "        # if the floor is more than the number of storeys of the house, then we assign a random floor from self.HouseFloor_min to the maximum floor in the house\n",
    "        floor_outliers = train_df.loc[train_df['Floor'] > train_df['HouseFloor']].index\n",
    "        train_df.loc[floor_outliers, 'Floor'] = train_df.loc[floor_outliers, 'HouseFloor'].apply(lambda x: self.HouseFloor_min if (self.HouseFloor_min == x) else np.random.randint(self.HouseFloor_min, x))\n",
    "        \n",
    "        # Handling categories\n",
    "        train_df = pd.concat([train_df, pd.get_dummies(train_df['Ecology_2'], prefix='Ecology_2', dtype='int8')], axis=1)\n",
    "        train_df = pd.concat([train_df, pd.get_dummies(train_df['Ecology_3'], prefix='Ecology_3', dtype='int8')], axis=1)\n",
    "        train_df = pd.concat([train_df, pd.get_dummies(train_df['Shops_2'], prefix='Shops_2', dtype='int8')], axis=1)\n",
    "        \n",
    "        return train_df\n",
    "    \n",
    "    def features(self, train_df):\n",
    "        \n",
    "        # adding a featere of the popularity of the district\n",
    "        train_df['DistrictId_counts'] = train_df['DistrictId'].map(self.DistrictId_value_counts)\n",
    "        train_df['DistrictId_counts'].fillna(train_df['DistrictId_counts'].median(), inplace=True)\n",
    "        \n",
    "        # adding a feature of the average cost of m2 in the district\n",
    "        train_df = train_df.merge(self.SquareMeterPrice_by_DistrictId, on=[\"DistrictId\"], how='left')\n",
    "        train_df['AverageSquareMeterPrice'].fillna(train_df['AverageSquareMeterPrice'].median(), inplace=True)\n",
    "        \n",
    "        # adding the sign of the average value Healthcare_1 by the district\n",
    "        train_df = train_df.merge(self.Healthcare_1_by_DistrictId, on=[\"DistrictId\"], how='left')\n",
    "        train_df['AverageHealthcare_1'].fillna(train_df['AverageHealthcare_1'].median(), inplace=True)\n",
    "        \n",
    "        return train_df"
   ]
  },
  {
   "cell_type": "markdown",
   "metadata": {
    "papermill": {
     "duration": 0.030613,
     "end_time": "2021-06-05T17:20:27.390074",
     "exception": false,
     "start_time": "2021-06-05T17:20:27.359461",
     "status": "completed"
    },
    "tags": []
   },
   "source": [
    "#### Data initialization"
   ]
  },
  {
   "cell_type": "code",
   "execution_count": 16,
   "metadata": {
    "execution": {
     "iopub.execute_input": "2021-06-05T17:20:27.460319Z",
     "iopub.status.busy": "2021-06-05T17:20:27.456800Z",
     "iopub.status.idle": "2021-06-05T17:20:27.558262Z",
     "shell.execute_reply": "2021-06-05T17:20:27.557608Z",
     "shell.execute_reply.started": "2021-06-05T16:46:40.930981Z"
    },
    "papermill": {
     "duration": 0.13776,
     "end_time": "2021-06-05T17:20:27.558400",
     "exception": false,
     "start_time": "2021-06-05T17:20:27.420640",
     "status": "completed"
    },
    "tags": []
   },
   "outputs": [],
   "source": [
    "data_inst = Data()\n",
    "\n",
    "# Train data\n",
    "data_inst.fit(train_df)\n",
    "train_df = data_inst.transform(train_df)\n",
    "train_df = data_inst.features(train_df)\n",
    "\n",
    "# Test data\n",
    "test_df = data_inst.transform(test_df)\n",
    "test_df = data_inst.features(test_df)"
   ]
  },
  {
   "cell_type": "markdown",
   "metadata": {
    "papermill": {
     "duration": 0.04413,
     "end_time": "2021-06-05T17:20:27.646795",
     "exception": false,
     "start_time": "2021-06-05T17:20:27.602665",
     "status": "completed"
    },
    "tags": []
   },
   "source": [
    "#### Model features list"
   ]
  },
  {
   "cell_type": "code",
   "execution_count": 17,
   "metadata": {
    "execution": {
     "iopub.execute_input": "2021-06-05T17:20:27.741124Z",
     "iopub.status.busy": "2021-06-05T17:20:27.740450Z",
     "iopub.status.idle": "2021-06-05T17:20:27.744350Z",
     "shell.execute_reply": "2021-06-05T17:20:27.743426Z",
     "shell.execute_reply.started": "2021-06-05T16:47:36.025088Z"
    },
    "papermill": {
     "duration": 0.053673,
     "end_time": "2021-06-05T17:20:27.744471",
     "exception": false,
     "start_time": "2021-06-05T17:20:27.690798",
     "status": "completed"
    },
    "tags": []
   },
   "outputs": [],
   "source": [
    "feature_names = ['AverageSquareMeterPrice', 'DistrictId_counts', 'Rooms', 'Square', 'LifeSquare', 'KitchenSquare', 'Floor',\n",
    "                    'HouseFloor', 'HouseYear', 'Helthcare_2', 'Ecology_1', 'Social_1', 'Social_2', 'Social_3',\n",
    "                    'Shops_1', 'Ecology_2_A', 'Ecology_2_B', 'Ecology_3_A', 'Ecology_3_B', 'Shops_2_A', 'Shops_2_B',\n",
    "                    'AverageHealthcare_1']\n",
    "target_name = 'Price'"
   ]
  },
  {
   "cell_type": "code",
   "execution_count": 18,
   "metadata": {
    "execution": {
     "iopub.execute_input": "2021-06-05T17:20:27.813939Z",
     "iopub.status.busy": "2021-06-05T17:20:27.813053Z",
     "iopub.status.idle": "2021-06-05T17:20:27.822275Z",
     "shell.execute_reply": "2021-06-05T17:20:27.821835Z",
     "shell.execute_reply.started": "2021-06-05T16:50:13.713941Z"
    },
    "papermill": {
     "duration": 0.046681,
     "end_time": "2021-06-05T17:20:27.822390",
     "exception": false,
     "start_time": "2021-06-05T17:20:27.775709",
     "status": "completed"
    },
    "tags": []
   },
   "outputs": [],
   "source": [
    "train_df = train_df[feature_names + [target_name]]\n",
    "test_df = test_df[feature_names + ['Id']]\n",
    "X = train_df[feature_names]\n",
    "y = train_df[target_name]"
   ]
  },
  {
   "cell_type": "markdown",
   "metadata": {
    "papermill": {
     "duration": 0.030784,
     "end_time": "2021-06-05T17:20:27.884734",
     "exception": false,
     "start_time": "2021-06-05T17:20:27.853950",
     "status": "completed"
    },
    "tags": []
   },
   "source": [
    "## CatBoostRegressor Model: \n",
    "(Calculating model hyperparameters with: learning_rate=0.08, iterations=1100 & depth=8)"
   ]
  },
  {
   "cell_type": "code",
   "execution_count": 19,
   "metadata": {
    "execution": {
     "iopub.execute_input": "2021-06-05T17:20:27.950423Z",
     "iopub.status.busy": "2021-06-05T17:20:27.949753Z",
     "iopub.status.idle": "2021-06-05T17:21:04.612219Z",
     "shell.execute_reply": "2021-06-05T17:21:04.612741Z",
     "shell.execute_reply.started": "2021-06-05T16:55:27.965398Z"
    },
    "papermill": {
     "duration": 36.697194,
     "end_time": "2021-06-05T17:21:04.612896",
     "exception": false,
     "start_time": "2021-06-05T17:20:27.915702",
     "status": "completed"
    },
    "tags": []
   },
   "outputs": [
    {
     "name": "stdout",
     "output_type": "stream",
     "text": [
      "R2: 0.764\n"
     ]
    }
   ],
   "source": [
    "final_model = CatBoostRegressor(\n",
    "    silent=True,\n",
    "    learning_rate=0.08,\n",
    "    iterations=1100,\n",
    "    eval_metric='R2',\n",
    "    depth=8\n",
    ")\n",
    "\n",
    "final_model.fit(X, y)\n",
    "\n",
    "cv_score = cross_val_score(\n",
    "    final_model,\n",
    "    X,\n",
    "    y,\n",
    "    scoring='r2',\n",
    "    cv=KFold(\n",
    "            n_splits=5,\n",
    "            shuffle=True,\n",
    "            random_state=42\n",
    "    )\n",
    ")\n",
    "\n",
    "print(f'R2: {round(cv_score.mean(), 3)}')"
   ]
  },
  {
   "cell_type": "markdown",
   "metadata": {
    "papermill": {
     "duration": 0.043986,
     "end_time": "2021-06-05T17:21:04.700862",
     "exception": false,
     "start_time": "2021-06-05T17:21:04.656876",
     "status": "completed"
    },
    "tags": []
   },
   "source": [
    "### Sorting features by importance"
   ]
  },
  {
   "cell_type": "code",
   "execution_count": 20,
   "metadata": {
    "execution": {
     "iopub.execute_input": "2021-06-05T17:21:04.795851Z",
     "iopub.status.busy": "2021-06-05T17:21:04.795133Z",
     "iopub.status.idle": "2021-06-05T17:21:04.836935Z",
     "shell.execute_reply": "2021-06-05T17:21:04.836463Z",
     "shell.execute_reply.started": "2021-06-05T16:58:17.170438Z"
    },
    "papermill": {
     "duration": 0.091786,
     "end_time": "2021-06-05T17:21:04.837068",
     "exception": false,
     "start_time": "2021-06-05T17:21:04.745282",
     "status": "completed"
    },
    "tags": []
   },
   "outputs": [
    {
     "data": {
      "text/html": [
       "<div>\n",
       "<style scoped>\n",
       "    .dataframe tbody tr th:only-of-type {\n",
       "        vertical-align: middle;\n",
       "    }\n",
       "\n",
       "    .dataframe tbody tr th {\n",
       "        vertical-align: top;\n",
       "    }\n",
       "\n",
       "    .dataframe thead th {\n",
       "        text-align: right;\n",
       "    }\n",
       "</style>\n",
       "<table border=\"1\" class=\"dataframe\">\n",
       "  <thead>\n",
       "    <tr style=\"text-align: right;\">\n",
       "      <th></th>\n",
       "      <th>feature_name</th>\n",
       "      <th>importance</th>\n",
       "    </tr>\n",
       "  </thead>\n",
       "  <tbody>\n",
       "    <tr>\n",
       "      <th>3</th>\n",
       "      <td>Square</td>\n",
       "      <td>29.178735</td>\n",
       "    </tr>\n",
       "    <tr>\n",
       "      <th>0</th>\n",
       "      <td>AverageSquareMeterPrice</td>\n",
       "      <td>19.072838</td>\n",
       "    </tr>\n",
       "    <tr>\n",
       "      <th>8</th>\n",
       "      <td>HouseYear</td>\n",
       "      <td>7.750229</td>\n",
       "    </tr>\n",
       "    <tr>\n",
       "      <th>5</th>\n",
       "      <td>KitchenSquare</td>\n",
       "      <td>5.000253</td>\n",
       "    </tr>\n",
       "    <tr>\n",
       "      <th>4</th>\n",
       "      <td>LifeSquare</td>\n",
       "      <td>4.723115</td>\n",
       "    </tr>\n",
       "    <tr>\n",
       "      <th>7</th>\n",
       "      <td>HouseFloor</td>\n",
       "      <td>4.468753</td>\n",
       "    </tr>\n",
       "    <tr>\n",
       "      <th>1</th>\n",
       "      <td>DistrictId_counts</td>\n",
       "      <td>4.132675</td>\n",
       "    </tr>\n",
       "    <tr>\n",
       "      <th>6</th>\n",
       "      <td>Floor</td>\n",
       "      <td>3.991992</td>\n",
       "    </tr>\n",
       "    <tr>\n",
       "      <th>10</th>\n",
       "      <td>Ecology_1</td>\n",
       "      <td>3.855417</td>\n",
       "    </tr>\n",
       "    <tr>\n",
       "      <th>21</th>\n",
       "      <td>AverageHealthcare_1</td>\n",
       "      <td>3.517834</td>\n",
       "    </tr>\n",
       "    <tr>\n",
       "      <th>12</th>\n",
       "      <td>Social_2</td>\n",
       "      <td>3.404858</td>\n",
       "    </tr>\n",
       "    <tr>\n",
       "      <th>11</th>\n",
       "      <td>Social_1</td>\n",
       "      <td>2.566216</td>\n",
       "    </tr>\n",
       "    <tr>\n",
       "      <th>13</th>\n",
       "      <td>Social_3</td>\n",
       "      <td>2.390234</td>\n",
       "    </tr>\n",
       "    <tr>\n",
       "      <th>2</th>\n",
       "      <td>Rooms</td>\n",
       "      <td>2.372598</td>\n",
       "    </tr>\n",
       "    <tr>\n",
       "      <th>14</th>\n",
       "      <td>Shops_1</td>\n",
       "      <td>2.052684</td>\n",
       "    </tr>\n",
       "    <tr>\n",
       "      <th>9</th>\n",
       "      <td>Helthcare_2</td>\n",
       "      <td>1.245058</td>\n",
       "    </tr>\n",
       "    <tr>\n",
       "      <th>19</th>\n",
       "      <td>Shops_2_A</td>\n",
       "      <td>0.138290</td>\n",
       "    </tr>\n",
       "    <tr>\n",
       "      <th>20</th>\n",
       "      <td>Shops_2_B</td>\n",
       "      <td>0.063868</td>\n",
       "    </tr>\n",
       "    <tr>\n",
       "      <th>18</th>\n",
       "      <td>Ecology_3_B</td>\n",
       "      <td>0.031653</td>\n",
       "    </tr>\n",
       "    <tr>\n",
       "      <th>17</th>\n",
       "      <td>Ecology_3_A</td>\n",
       "      <td>0.030141</td>\n",
       "    </tr>\n",
       "  </tbody>\n",
       "</table>\n",
       "</div>"
      ],
      "text/plain": [
       "               feature_name  importance\n",
       "3                    Square   29.178735\n",
       "0   AverageSquareMeterPrice   19.072838\n",
       "8                 HouseYear    7.750229\n",
       "5             KitchenSquare    5.000253\n",
       "4                LifeSquare    4.723115\n",
       "7                HouseFloor    4.468753\n",
       "1         DistrictId_counts    4.132675\n",
       "6                     Floor    3.991992\n",
       "10                Ecology_1    3.855417\n",
       "21      AverageHealthcare_1    3.517834\n",
       "12                 Social_2    3.404858\n",
       "11                 Social_1    2.566216\n",
       "13                 Social_3    2.390234\n",
       "2                     Rooms    2.372598\n",
       "14                  Shops_1    2.052684\n",
       "9               Helthcare_2    1.245058\n",
       "19                Shops_2_A    0.138290\n",
       "20                Shops_2_B    0.063868\n",
       "18              Ecology_3_B    0.031653\n",
       "17              Ecology_3_A    0.030141"
      ]
     },
     "execution_count": 20,
     "metadata": {},
     "output_type": "execute_result"
    }
   ],
   "source": [
    "feature_importances = pd.DataFrame(\n",
    "    zip(X.columns, final_model.get_feature_importance()),\n",
    "    columns=['feature_name', 'importance']\n",
    ")\n",
    "\n",
    "feature_importances.sort_values(by='importance', ascending=False, inplace=True)\n",
    "feature_importances.head(20)"
   ]
  },
  {
   "cell_type": "markdown",
   "metadata": {
    "papermill": {
     "duration": 0.031256,
     "end_time": "2021-06-05T17:21:04.900329",
     "exception": false,
     "start_time": "2021-06-05T17:21:04.869073",
     "status": "completed"
    },
    "tags": []
   },
   "source": [
    "### Prediction dataframe"
   ]
  },
  {
   "cell_type": "code",
   "execution_count": 21,
   "metadata": {
    "execution": {
     "iopub.execute_input": "2021-06-05T17:21:04.972067Z",
     "iopub.status.busy": "2021-06-05T17:21:04.970142Z",
     "iopub.status.idle": "2021-06-05T17:21:04.975279Z",
     "shell.execute_reply": "2021-06-05T17:21:04.975742Z",
     "shell.execute_reply.started": "2021-06-05T17:00:41.911134Z"
    },
    "papermill": {
     "duration": 0.04445,
     "end_time": "2021-06-05T17:21:04.975912",
     "exception": false,
     "start_time": "2021-06-05T17:21:04.931462",
     "status": "completed"
    },
    "tags": []
   },
   "outputs": [],
   "source": [
    "preds_final = pd.DataFrame()\n",
    "preds_final['Id'] = test_df['Id'].copy()\n",
    "\n",
    "test_df.set_index('Id', inplace=True)\n",
    "test_df = test_df[feature_names]"
   ]
  },
  {
   "cell_type": "code",
   "execution_count": 22,
   "metadata": {
    "execution": {
     "iopub.execute_input": "2021-06-05T17:21:05.073454Z",
     "iopub.status.busy": "2021-06-05T17:21:05.072740Z",
     "iopub.status.idle": "2021-06-05T17:21:05.101131Z",
     "shell.execute_reply": "2021-06-05T17:21:05.100622Z",
     "shell.execute_reply.started": "2021-06-05T17:01:38.394325Z"
    },
    "papermill": {
     "duration": 0.08035,
     "end_time": "2021-06-05T17:21:05.101251",
     "exception": false,
     "start_time": "2021-06-05T17:21:05.020901",
     "status": "completed"
    },
    "tags": []
   },
   "outputs": [
    {
     "data": {
      "text/html": [
       "<div>\n",
       "<style scoped>\n",
       "    .dataframe tbody tr th:only-of-type {\n",
       "        vertical-align: middle;\n",
       "    }\n",
       "\n",
       "    .dataframe tbody tr th {\n",
       "        vertical-align: top;\n",
       "    }\n",
       "\n",
       "    .dataframe thead th {\n",
       "        text-align: right;\n",
       "    }\n",
       "</style>\n",
       "<table border=\"1\" class=\"dataframe\">\n",
       "  <thead>\n",
       "    <tr style=\"text-align: right;\">\n",
       "      <th></th>\n",
       "      <th>Id</th>\n",
       "      <th>Price</th>\n",
       "    </tr>\n",
       "  </thead>\n",
       "  <tbody>\n",
       "    <tr>\n",
       "      <th>0</th>\n",
       "      <td>725</td>\n",
       "      <td>146240.442401</td>\n",
       "    </tr>\n",
       "    <tr>\n",
       "      <th>1</th>\n",
       "      <td>15856</td>\n",
       "      <td>220062.303630</td>\n",
       "    </tr>\n",
       "    <tr>\n",
       "      <th>2</th>\n",
       "      <td>5480</td>\n",
       "      <td>271654.748312</td>\n",
       "    </tr>\n",
       "    <tr>\n",
       "      <th>3</th>\n",
       "      <td>15664</td>\n",
       "      <td>324989.479538</td>\n",
       "    </tr>\n",
       "    <tr>\n",
       "      <th>4</th>\n",
       "      <td>14275</td>\n",
       "      <td>146042.248134</td>\n",
       "    </tr>\n",
       "  </tbody>\n",
       "</table>\n",
       "</div>"
      ],
      "text/plain": [
       "      Id          Price\n",
       "0    725  146240.442401\n",
       "1  15856  220062.303630\n",
       "2   5480  271654.748312\n",
       "3  15664  324989.479538\n",
       "4  14275  146042.248134"
      ]
     },
     "execution_count": 22,
     "metadata": {},
     "output_type": "execute_result"
    }
   ],
   "source": [
    "y_pred_final = final_model.predict(test_df)\n",
    "\n",
    "submission_df['Price'] = y_pred_final\n",
    "submission_df.to_csv('./predictions.csv', index=False, encoding='utf-8', sep=',')\n",
    "\n",
    "submission_df.head()"
   ]
  }
 ],
 "metadata": {
  "kernelspec": {
   "display_name": "Python 3",
   "language": "python",
   "name": "python3"
  },
  "language_info": {
   "codemirror_mode": {
    "name": "ipython",
    "version": 3
   },
   "file_extension": ".py",
   "mimetype": "text/x-python",
   "name": "python",
   "nbconvert_exporter": "python",
   "pygments_lexer": "ipython3",
   "version": "3.8.5"
  },
  "papermill": {
   "default_parameters": {},
   "duration": 60.864044,
   "end_time": "2021-06-05T17:21:06.819181",
   "environment_variables": {},
   "exception": null,
   "input_path": "__notebook__.ipynb",
   "output_path": "__notebook__.ipynb",
   "parameters": {},
   "start_time": "2021-06-05T17:20:05.955137",
   "version": "2.3.3"
  }
 },
 "nbformat": 4,
 "nbformat_minor": 5
}
